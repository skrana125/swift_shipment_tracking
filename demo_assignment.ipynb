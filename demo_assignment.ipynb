{
 "cells": [
  {
   "cell_type": "code",
   "execution_count": 2,
   "metadata": {
    "collapsed": true,
    "ExecuteTime": {
     "end_time": "2024-01-09T11:43:42.349145600Z",
     "start_time": "2024-01-09T11:43:42.265584500Z"
    }
   },
   "outputs": [],
   "source": [
    "import pandas as pd\n",
    "from datetime import datetime, timedelta\n",
    "\n",
    "# Load data from JSON file\n",
    "file_url = \"Swift Assignment 4 - Dataset.json\"\n",
    "data = pd.read_json(file_url)"
   ]
  },
  {
   "cell_type": "code",
   "execution_count": 4,
   "outputs": [
    {
     "data": {
      "text/plain": "  highestSeverity                                      notifications   \n0         SUCCESS  [{'severity': 'SUCCESS', 'source': 'trck', 'co...  \\\n1         SUCCESS  [{'severity': 'SUCCESS', 'source': 'trck', 'co...   \n2         SUCCESS  [{'severity': 'SUCCESS', 'source': 'trck', 'co...   \n3         SUCCESS  [{'severity': 'SUCCESS', 'source': 'trck', 'co...   \n4         SUCCESS  [{'severity': 'SUCCESS', 'source': 'trck', 'co...   \n\n   duplicateWaybill  moreData  trackDetailsCount   \n0             False     False                  0  \\\n1             False     False                  0   \n2             False     False                  0   \n3             False     False                  0   \n4             False     False                  0   \n\n                                        trackDetails  \n0  [{'notification': {'severity': 'SUCCESS', 'sou...  \n1  [{'notification': {'severity': 'SUCCESS', 'sou...  \n2  [{'notification': {'severity': 'SUCCESS', 'sou...  \n3  [{'notification': {'severity': 'SUCCESS', 'sou...  \n4  [{'notification': {'severity': 'SUCCESS', 'sou...  ",
      "text/html": "<div>\n<style scoped>\n    .dataframe tbody tr th:only-of-type {\n        vertical-align: middle;\n    }\n\n    .dataframe tbody tr th {\n        vertical-align: top;\n    }\n\n    .dataframe thead th {\n        text-align: right;\n    }\n</style>\n<table border=\"1\" class=\"dataframe\">\n  <thead>\n    <tr style=\"text-align: right;\">\n      <th></th>\n      <th>highestSeverity</th>\n      <th>notifications</th>\n      <th>duplicateWaybill</th>\n      <th>moreData</th>\n      <th>trackDetailsCount</th>\n      <th>trackDetails</th>\n    </tr>\n  </thead>\n  <tbody>\n    <tr>\n      <th>0</th>\n      <td>SUCCESS</td>\n      <td>[{'severity': 'SUCCESS', 'source': 'trck', 'co...</td>\n      <td>False</td>\n      <td>False</td>\n      <td>0</td>\n      <td>[{'notification': {'severity': 'SUCCESS', 'sou...</td>\n    </tr>\n    <tr>\n      <th>1</th>\n      <td>SUCCESS</td>\n      <td>[{'severity': 'SUCCESS', 'source': 'trck', 'co...</td>\n      <td>False</td>\n      <td>False</td>\n      <td>0</td>\n      <td>[{'notification': {'severity': 'SUCCESS', 'sou...</td>\n    </tr>\n    <tr>\n      <th>2</th>\n      <td>SUCCESS</td>\n      <td>[{'severity': 'SUCCESS', 'source': 'trck', 'co...</td>\n      <td>False</td>\n      <td>False</td>\n      <td>0</td>\n      <td>[{'notification': {'severity': 'SUCCESS', 'sou...</td>\n    </tr>\n    <tr>\n      <th>3</th>\n      <td>SUCCESS</td>\n      <td>[{'severity': 'SUCCESS', 'source': 'trck', 'co...</td>\n      <td>False</td>\n      <td>False</td>\n      <td>0</td>\n      <td>[{'notification': {'severity': 'SUCCESS', 'sou...</td>\n    </tr>\n    <tr>\n      <th>4</th>\n      <td>SUCCESS</td>\n      <td>[{'severity': 'SUCCESS', 'source': 'trck', 'co...</td>\n      <td>False</td>\n      <td>False</td>\n      <td>0</td>\n      <td>[{'notification': {'severity': 'SUCCESS', 'sou...</td>\n    </tr>\n  </tbody>\n</table>\n</div>"
     },
     "execution_count": 4,
     "metadata": {},
     "output_type": "execute_result"
    }
   ],
   "source": [
    "data.head()"
   ],
   "metadata": {
    "collapsed": false,
    "ExecuteTime": {
     "end_time": "2024-01-09T11:43:56.209414700Z",
     "start_time": "2024-01-09T11:43:56.169297500Z"
    }
   }
  },
  {
   "cell_type": "code",
   "execution_count": 20,
   "outputs": [
    {
     "name": "stdout",
     "output_type": "stream",
     "text": [
      "  trackingNumber trackingNumberUniqueIdentifier informationNotes   \n",
      "0   391128701026     2458925000~391128701026~FX               []  \\\n",
      "1   390901883808     2458915000~390901883808~FX               []   \n",
      "2   391128749178     2458925000~391128749178~FX               []   \n",
      "3   390807986805     2458912000~390807986805~FX               []   \n",
      "4   390948921190     2458918000~390948921190~FX               []   \n",
      "\n",
      "  customerExceptionRequests carrierCode operatingCompanyOrCarrierDescription   \n",
      "0                        []        FDXE                        FedEx Express  \\\n",
      "1                        []        FDXE                        FedEx Express   \n",
      "2                        []        FDXE                        FedEx Express   \n",
      "3                        []        FDXE                        FedEx Express   \n",
      "4                        []        FDXE                        FedEx Express   \n",
      "\n",
      "  otherIdentifiers  packageSequenceNumber  packageCount   \n",
      "0               []                      1             1  \\\n",
      "1               []                      1             1   \n",
      "2               []                      1             1   \n",
      "3               []                      1             1   \n",
      "4               []                      1             1   \n",
      "\n",
      "   shipmentContentPieceCount  ...  actualDeliveryAddress.residential   \n",
      "0                          0  ...                              False  \\\n",
      "1                          0  ...                              False   \n",
      "2                          0  ...                              False   \n",
      "3                          0  ...                              False   \n",
      "4                          0  ...                              False   \n",
      "\n",
      "  packageDimensions.length packageDimensions.width packageDimensions.height   \n",
      "0                      NaN                     NaN                      NaN  \\\n",
      "1                      NaN                     NaN                      NaN   \n",
      "2                      NaN                     NaN                      NaN   \n",
      "3                      NaN                     NaN                      NaN   \n",
      "4                      NaN                     NaN                      NaN   \n",
      "\n",
      "  packageDimensions.units highestSeverity   \n",
      "0                     NaN         SUCCESS  \\\n",
      "1                     NaN         SUCCESS   \n",
      "2                     NaN         SUCCESS   \n",
      "3                     NaN         SUCCESS   \n",
      "4                     NaN         SUCCESS   \n",
      "\n",
      "                                       notifications duplicateWaybill   \n",
      "0  {'severity': 'SUCCESS', 'source': 'trck', 'cod...            False  \\\n",
      "1  {'severity': 'SUCCESS', 'source': 'trck', 'cod...            False   \n",
      "2  {'severity': 'SUCCESS', 'source': 'trck', 'cod...            False   \n",
      "3  {'severity': 'SUCCESS', 'source': 'trck', 'cod...            False   \n",
      "4  {'severity': 'SUCCESS', 'source': 'trck', 'cod...            False   \n",
      "\n",
      "  moreData trackDetailsCount  \n",
      "0    False                 0  \n",
      "1    False                 0  \n",
      "2    False                 0  \n",
      "3    False                 0  \n",
      "4    False                 0  \n",
      "\n",
      "[5 rows x 91 columns]\n"
     ]
    }
   ],
   "source": [
    "import pandas as pd\n",
    "\n",
    "# Replace 'your_file_path.json' with the actual path to your downloaded JSON file\n",
    "file_path = \"Swift Assignment 4 - Dataset.json\"\n",
    "\n",
    "# Load JSON data\n",
    "with open(file_path, 'r') as file:\n",
    "    data = json.load(file)\n",
    "\n",
    "# Normalize the data\n",
    "normalized_data = pd.json_normalize(data, 'trackDetails', ['highestSeverity', 'notifications', 'duplicateWaybill', 'moreData', 'trackDetailsCount'])\n",
    "\n",
    "# Display the first few rows of the normalized data\n",
    "print(normalized_data.head())"
   ],
   "metadata": {
    "collapsed": false,
    "ExecuteTime": {
     "end_time": "2024-01-09T12:47:25.963771200Z",
     "start_time": "2024-01-09T12:47:25.961829600Z"
    }
   }
  },
  {
   "cell_type": "code",
   "execution_count": null,
   "outputs": [],
   "source": [],
   "metadata": {
    "collapsed": false
   }
  }
 ],
 "metadata": {
  "kernelspec": {
   "display_name": "Python 3",
   "language": "python",
   "name": "python3"
  },
  "language_info": {
   "codemirror_mode": {
    "name": "ipython",
    "version": 2
   },
   "file_extension": ".py",
   "mimetype": "text/x-python",
   "name": "python",
   "nbconvert_exporter": "python",
   "pygments_lexer": "ipython2",
   "version": "2.7.6"
  }
 },
 "nbformat": 4,
 "nbformat_minor": 0
}
