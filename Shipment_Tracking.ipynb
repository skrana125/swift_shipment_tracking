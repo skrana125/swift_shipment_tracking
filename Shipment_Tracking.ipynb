{
 "cells": [
  {
   "cell_type": "markdown",
   "source": [
    "## Shipment Tracking\n",
    "Using the given dataset, your task is to generate a\n",
    "flattened dataset consumable by analysts and generate a summary of the dataset given to you."
   ],
   "metadata": {
    "collapsed": false
   }
  },
  {
   "cell_type": "markdown",
   "source": [
    "### Import Libraries"
   ],
   "metadata": {
    "collapsed": false
   }
  },
  {
   "cell_type": "code",
   "execution_count": 21,
   "metadata": {
    "collapsed": true,
    "ExecuteTime": {
     "end_time": "2024-01-09T23:55:37.169987600Z",
     "start_time": "2024-01-09T23:55:37.153952300Z"
    }
   },
   "outputs": [],
   "source": [
    "# importing necessary libraries\n",
    "import pandas as pd\n",
    "import json\n",
    "import csv\n",
    "import datetime as dt"
   ]
  },
  {
   "cell_type": "markdown",
   "source": [
    "### Read Json data from given file"
   ],
   "metadata": {
    "collapsed": false
   }
  },
  {
   "cell_type": "code",
   "execution_count": 4,
   "outputs": [
    {
     "data": {
      "text/plain": "  highestSeverity                                      notifications   \n0         SUCCESS  [{'severity': 'SUCCESS', 'source': 'trck', 'co...  \\\n1         SUCCESS  [{'severity': 'SUCCESS', 'source': 'trck', 'co...   \n2         SUCCESS  [{'severity': 'SUCCESS', 'source': 'trck', 'co...   \n\n   duplicateWaybill  moreData  trackDetailsCount   \n0             False     False                  0  \\\n1             False     False                  0   \n2             False     False                  0   \n\n                                        trackDetails  \n0  [{'notification': {'severity': 'SUCCESS', 'sou...  \n1  [{'notification': {'severity': 'SUCCESS', 'sou...  \n2  [{'notification': {'severity': 'SUCCESS', 'sou...  ",
      "text/html": "<div>\n<style scoped>\n    .dataframe tbody tr th:only-of-type {\n        vertical-align: middle;\n    }\n\n    .dataframe tbody tr th {\n        vertical-align: top;\n    }\n\n    .dataframe thead th {\n        text-align: right;\n    }\n</style>\n<table border=\"1\" class=\"dataframe\">\n  <thead>\n    <tr style=\"text-align: right;\">\n      <th></th>\n      <th>highestSeverity</th>\n      <th>notifications</th>\n      <th>duplicateWaybill</th>\n      <th>moreData</th>\n      <th>trackDetailsCount</th>\n      <th>trackDetails</th>\n    </tr>\n  </thead>\n  <tbody>\n    <tr>\n      <th>0</th>\n      <td>SUCCESS</td>\n      <td>[{'severity': 'SUCCESS', 'source': 'trck', 'co...</td>\n      <td>False</td>\n      <td>False</td>\n      <td>0</td>\n      <td>[{'notification': {'severity': 'SUCCESS', 'sou...</td>\n    </tr>\n    <tr>\n      <th>1</th>\n      <td>SUCCESS</td>\n      <td>[{'severity': 'SUCCESS', 'source': 'trck', 'co...</td>\n      <td>False</td>\n      <td>False</td>\n      <td>0</td>\n      <td>[{'notification': {'severity': 'SUCCESS', 'sou...</td>\n    </tr>\n    <tr>\n      <th>2</th>\n      <td>SUCCESS</td>\n      <td>[{'severity': 'SUCCESS', 'source': 'trck', 'co...</td>\n      <td>False</td>\n      <td>False</td>\n      <td>0</td>\n      <td>[{'notification': {'severity': 'SUCCESS', 'sou...</td>\n    </tr>\n  </tbody>\n</table>\n</div>"
     },
     "execution_count": 4,
     "metadata": {},
     "output_type": "execute_result"
    }
   ],
   "source": [
    "# import the csv data through pandas\n",
    "dataFrame = pd.read_json(\"Swift Assignment 4 - Dataset.json\")\n",
    "dataFrame.head(3)"
   ],
   "metadata": {
    "collapsed": false,
    "ExecuteTime": {
     "end_time": "2024-01-09T22:44:10.222572100Z",
     "start_time": "2024-01-09T22:44:09.989254300Z"
    }
   }
  },
  {
   "cell_type": "markdown",
   "source": [
    "### Flatten the data"
   ],
   "metadata": {
    "collapsed": false
   }
  },
  {
   "cell_type": "code",
   "execution_count": 5,
   "outputs": [
    {
     "data": {
      "text/plain": "                                                   0\n0  {'trackingNumber': '391128701026', 'trackingNu...\n1  {'trackingNumber': '390901883808', 'trackingNu...\n2  {'trackingNumber': '391128749178', 'trackingNu...",
      "text/html": "<div>\n<style scoped>\n    .dataframe tbody tr th:only-of-type {\n        vertical-align: middle;\n    }\n\n    .dataframe tbody tr th {\n        vertical-align: top;\n    }\n\n    .dataframe thead th {\n        text-align: right;\n    }\n</style>\n<table border=\"1\" class=\"dataframe\">\n  <thead>\n    <tr style=\"text-align: right;\">\n      <th></th>\n      <th>0</th>\n    </tr>\n  </thead>\n  <tbody>\n    <tr>\n      <th>0</th>\n      <td>{'trackingNumber': '391128701026', 'trackingNu...</td>\n    </tr>\n    <tr>\n      <th>1</th>\n      <td>{'trackingNumber': '390901883808', 'trackingNu...</td>\n    </tr>\n    <tr>\n      <th>2</th>\n      <td>{'trackingNumber': '391128749178', 'trackingNu...</td>\n    </tr>\n  </tbody>\n</table>\n</div>"
     },
     "execution_count": 5,
     "metadata": {},
     "output_type": "execute_result"
    }
   ],
   "source": [
    "#flatten data\n",
    "df =  pd.json_normalize(dataFrame['trackDetails'])\n",
    "df.head(3)"
   ],
   "metadata": {
    "collapsed": false,
    "ExecuteTime": {
     "end_time": "2024-01-09T22:44:15.672668800Z",
     "start_time": "2024-01-09T22:44:15.607053800Z"
    }
   }
  },
  {
   "cell_type": "markdown",
   "source": [
    "Storing the data into the flattened_data as list"
   ],
   "metadata": {
    "collapsed": false
   }
  },
  {
   "cell_type": "code",
   "execution_count": 49,
   "outputs": [],
   "source": [
    "flattened_data = []\n",
    "for track_list in dataFrame['trackDetails']:\n",
    "    for track in track_list:\n",
    "        # Find the event with event type PU\n",
    "        pickup_event = next((event for event in track['events'] if event['eventType']=='PU'), None)\n",
    "\n",
    "        # extract the postal code if PU event is found\n",
    "        postal_code = pickup_event['address']['postalCode'] if pickup_event and 'address' in pickup_event else ''\n",
    "\n",
    "        # extract COD payment type else set the payment type Prepaid\n",
    "        paymet_type = next((handling.get('type', '') for handling in track.get('specialHandlings', []) if handling.get('type') == 'COD'), 'Prepaid')\n",
    "\n",
    "        flattened_data.append({\n",
    "        'Tracking number': track['trackingNumber'],\n",
    "        'Payment type': paymet_type,\n",
    "        'Pickup Date Time': track['datesOrTimes'][1]['dateOrTimestamp'],\n",
    "        'Delivery Date Time': track['datesOrTimes'][0]['dateOrTimestamp'],\n",
    "        'Out for Delivery datetime(s)': [event['timestamp'] for event in track['events'] if event['eventType'] == 'OD'],\n",
    "        'Shipment weight': track['shipmentWeight']['value'],\n",
    "        'Pickup Pincode': postal_code,\n",
    "        'Pickup City': track['shipperAddress']['city'],\n",
    "        'Pickup State': track['shipperAddress']['stateOrProvinceCode'],\n",
    "        'Drop Pincode': track['events'][0]['address']['postalCode'],\n",
    "        'Drop city': track['events'][0]['address']['city'],\n",
    "        'Drop state': track['events'][0]['address']['stateOrProvinceCode'],\n",
    "        'Number of Delivery attempts needed':0,\n",
    "    })"
   ],
   "metadata": {
    "collapsed": false,
    "ExecuteTime": {
     "end_time": "2024-01-10T01:59:46.824894300Z",
     "start_time": "2024-01-10T01:59:46.810118600Z"
    }
   }
  },
  {
   "cell_type": "code",
   "execution_count": 50,
   "outputs": [
    {
     "data": {
      "text/plain": "[{'Tracking number': '391128701026',\n  'Payment type': 'COD',\n  'Pickup Date Time': '2020-03-16T15:44:00+05:30',\n  'Delivery Date Time': '2020-03-20T13:37:00+05:30',\n  'Out for Delivery datetime(s)': [{'$numberLong': '1584679560000'}],\n  'Shipment weight': 14,\n  'Pickup Pincode': '560048',\n  'Pickup City': 'Bangalore',\n  'Pickup State': 'KA',\n  'Drop Pincode': '122001',\n  'Drop city': 'Gurgaon',\n  'Drop state': 'HR',\n  'Number of Delivery attempts needed': 0},\n {'Tracking number': '390901883808',\n  'Payment type': 'Prepaid',\n  'Pickup Date Time': '2020-03-06T16:07:00+05:30',\n  'Delivery Date Time': '2020-03-09T19:50:00+05:30',\n  'Out for Delivery datetime(s)': [{'$numberLong': '1583731200000'},\n   {'$numberLong': '1583729700000'}],\n  'Shipment weight': 14,\n  'Pickup Pincode': '560048',\n  'Pickup City': 'Bangalore',\n  'Pickup State': 'KA',\n  'Drop Pincode': '560034',\n  'Drop city': 'Bangalore',\n  'Drop state': 'KA',\n  'Number of Delivery attempts needed': 0},\n {'Tracking number': '391128749178',\n  'Payment type': 'Prepaid',\n  'Pickup Date Time': '2020-03-16T15:44:00+05:30',\n  'Delivery Date Time': '2020-03-19T15:29:00+05:30',\n  'Out for Delivery datetime(s)': [{'$numberLong': '1584601200000'}],\n  'Shipment weight': 14,\n  'Pickup Pincode': '560048',\n  'Pickup City': 'Bangalore',\n  'Pickup State': 'KA',\n  'Drop Pincode': '380028',\n  'Drop city': 'Ahmedabad',\n  'Drop state': 'GJ',\n  'Number of Delivery attempts needed': 0},\n {'Tracking number': '390807986805',\n  'Payment type': 'Prepaid',\n  'Pickup Date Time': '2020-03-03T16:19:00+05:30',\n  'Delivery Date Time': '2020-03-07T14:24:00+05:30',\n  'Out for Delivery datetime(s)': [{'$numberLong': '1583557020000'}],\n  'Shipment weight': 14,\n  'Pickup Pincode': '560048',\n  'Pickup City': 'Bangalore',\n  'Pickup State': 'KA',\n  'Drop Pincode': '110088',\n  'Drop city': 'New Delhi',\n  'Drop state': 'DL',\n  'Number of Delivery attempts needed': 0},\n {'Tracking number': '390948921190',\n  'Payment type': 'COD',\n  'Pickup Date Time': '2020-03-09T15:12:00+05:30',\n  'Delivery Date Time': '2020-03-13T14:44:00+05:30',\n  'Out for Delivery datetime(s)': [{'$numberLong': '1584072120000'}],\n  'Shipment weight': 14,\n  'Pickup Pincode': '560048',\n  'Pickup City': 'Bangalore',\n  'Pickup State': 'KA',\n  'Drop Pincode': '110009',\n  'Drop city': 'Delhi',\n  'Drop state': 'DL',\n  'Number of Delivery attempts needed': 0},\n {'Tracking number': '390950106897',\n  'Payment type': 'Prepaid',\n  'Pickup Date Time': '2020-03-09T15:12:00+05:30',\n  'Delivery Date Time': '2020-03-12T16:00:00+05:30',\n  'Out for Delivery datetime(s)': [],\n  'Shipment weight': 14,\n  'Pickup Pincode': '560048',\n  'Pickup City': 'Bangalore',\n  'Pickup State': 'KA',\n  'Drop Pincode': '400053',\n  'Drop city': 'Mumbai',\n  'Drop state': 'MH',\n  'Number of Delivery attempts needed': 0},\n {'Tracking number': '391128762808',\n  'Payment type': 'Prepaid',\n  'Pickup Date Time': '2020-03-16T15:44:00+05:30',\n  'Delivery Date Time': '2020-03-18T12:09:00+05:30',\n  'Out for Delivery datetime(s)': [],\n  'Shipment weight': 14,\n  'Pickup Pincode': '560048',\n  'Pickup City': 'Bangalore',\n  'Pickup State': 'KA',\n  'Drop Pincode': '400052',\n  'Drop city': 'Mumbai',\n  'Drop state': 'MH',\n  'Number of Delivery attempts needed': 0},\n {'Tracking number': '390807994538',\n  'Payment type': 'Prepaid',\n  'Pickup Date Time': '2020-03-03T16:19:00+05:30',\n  'Delivery Date Time': '2020-03-07T15:19:00+05:30',\n  'Out for Delivery datetime(s)': [{'$numberLong': '1583556780000'}],\n  'Shipment weight': 14,\n  'Pickup Pincode': '560048',\n  'Pickup City': 'Bangalore',\n  'Pickup State': 'KA',\n  'Drop Pincode': '110087',\n  'Drop city': 'New Delhi',\n  'Drop state': 'DL',\n  'Number of Delivery attempts needed': 0},\n {'Tracking number': '390950134073',\n  'Payment type': 'COD',\n  'Pickup Date Time': '2020-03-09T15:12:00+05:30',\n  'Delivery Date Time': '2020-03-13T14:44:00+05:30',\n  'Out for Delivery datetime(s)': [{'$numberLong': '1584072120000'}],\n  'Shipment weight': 14,\n  'Pickup Pincode': '560048',\n  'Pickup City': 'Bangalore',\n  'Pickup State': 'KA',\n  'Drop Pincode': '110009',\n  'Drop city': 'Delhi',\n  'Drop state': 'DL',\n  'Number of Delivery attempts needed': 0},\n {'Tracking number': '390950572730',\n  'Payment type': 'Prepaid',\n  'Pickup Date Time': '2020-03-09T15:12:00+05:30',\n  'Delivery Date Time': '2020-03-10T15:30:00+05:30',\n  'Out for Delivery datetime(s)': [{'$numberLong': '1583813700000'}],\n  'Shipment weight': 28,\n  'Pickup Pincode': '560048',\n  'Pickup City': 'Bangalore',\n  'Pickup State': 'KA',\n  'Drop Pincode': '560038',\n  'Drop city': 'Bangalore',\n  'Drop state': 'KA',\n  'Number of Delivery attempts needed': 0},\n {'Tracking number': '390839041400',\n  'Payment type': 'COD',\n  'Pickup Date Time': '2020-03-04T16:13:00+05:30',\n  'Delivery Date Time': '2020-03-09T14:45:00+05:30',\n  'Out for Delivery datetime(s)': [{'$numberLong': '1583728620000'}],\n  'Shipment weight': 14,\n  'Pickup Pincode': '560048',\n  'Pickup City': 'Bangalore',\n  'Pickup State': 'KA',\n  'Drop Pincode': '110027',\n  'Drop city': 'Delhi',\n  'Drop state': 'DL',\n  'Number of Delivery attempts needed': 0},\n {'Tracking number': '390807999654',\n  'Payment type': 'Prepaid',\n  'Pickup Date Time': '2020-03-03T16:19:00+05:30',\n  'Delivery Date Time': '2020-03-12T13:00:00+05:30',\n  'Out for Delivery datetime(s)': [{'$numberLong': '1583992380000'}],\n  'Shipment weight': 14,\n  'Pickup Pincode': '560048',\n  'Pickup City': 'Bangalore',\n  'Pickup State': 'KA',\n  'Drop Pincode': '827001',\n  'Drop city': 'Bokaro steel City',\n  'Drop state': 'JH',\n  'Number of Delivery attempts needed': 0},\n {'Tracking number': '390767871261',\n  'Payment type': 'Prepaid',\n  'Pickup Date Time': '2020-03-02T16:23:00+05:30',\n  'Delivery Date Time': '2020-03-11T18:30:00+05:30',\n  'Out for Delivery datetime(s)': [{'$numberLong': '1583556480000'}],\n  'Shipment weight': 14,\n  'Pickup Pincode': '560048',\n  'Pickup City': 'Bangalore',\n  'Pickup State': 'KA',\n  'Drop Pincode': '122001',\n  'Drop city': 'Gurugram',\n  'Drop state': 'HR',\n  'Number of Delivery attempts needed': 0},\n {'Tracking number': '391018702750',\n  'Payment type': 'Prepaid',\n  'Pickup Date Time': '2020-03-11T16:39:00+05:30',\n  'Delivery Date Time': '2020-03-18T19:26:00+05:30',\n  'Out for Delivery datetime(s)': [{'$numberLong': '1584509400000'}],\n  'Shipment weight': 14,\n  'Pickup Pincode': '560048',\n  'Pickup City': 'Bangalore',\n  'Pickup State': 'KA',\n  'Drop Pincode': '226010',\n  'Drop city': 'Lucknow',\n  'Drop state': 'UP',\n  'Number of Delivery attempts needed': 0},\n {'Tracking number': '390931993491',\n  'Payment type': 'COD',\n  'Pickup Date Time': '2020-03-07T16:27:00+05:30',\n  'Delivery Date Time': '2020-03-11T14:31:00+05:30',\n  'Out for Delivery datetime(s)': [{'$numberLong': '1583913120000'}],\n  'Shipment weight': 14,\n  'Pickup Pincode': '560048',\n  'Pickup City': 'Bangalore',\n  'Pickup State': 'KA',\n  'Drop Pincode': '380015',\n  'Drop city': 'ahmedabad',\n  'Drop state': 'GJ',\n  'Number of Delivery attempts needed': 0},\n {'Tracking number': '391080326650',\n  'Payment type': 'COD',\n  'Pickup Date Time': '2020-03-13T17:14:00+05:30',\n  'Delivery Date Time': '2020-03-20T16:00:00+05:30',\n  'Out for Delivery datetime(s)': [{'$numberLong': '1584601080000'},\n   {'$numberLong': '1584508320000'},\n   {'$numberLong': '1584424620000'},\n   {'$numberLong': '1584333720000'}],\n  'Shipment weight': 14,\n  'Pickup Pincode': '560048',\n  'Pickup City': 'Bangalore',\n  'Pickup State': 'KA',\n  'Drop Pincode': '400604',\n  'Drop city': 'Thane',\n  'Drop state': 'MH',\n  'Number of Delivery attempts needed': 0},\n {'Tracking number': '390870220230',\n  'Payment type': 'COD',\n  'Pickup Date Time': '2020-03-05T19:20:00+05:30',\n  'Delivery Date Time': '2020-03-14T18:15:00+05:30',\n  'Out for Delivery datetime(s)': [{'$numberLong': '1583745120000'}],\n  'Shipment weight': 14,\n  'Pickup Pincode': '560048',\n  'Pickup City': 'Bangalore',\n  'Pickup State': 'KA',\n  'Drop Pincode': '500014',\n  'Drop city': 'HYDERABAD',\n  'Drop state': 'TS',\n  'Number of Delivery attempts needed': 0},\n {'Tracking number': '390901963670',\n  'Payment type': 'COD',\n  'Pickup Date Time': '2020-03-06T16:07:00+05:30',\n  'Delivery Date Time': '2020-03-10T18:00:00+05:30',\n  'Out for Delivery datetime(s)': [{'$numberLong': '1583824080000'}],\n  'Shipment weight': 14,\n  'Pickup Pincode': '560048',\n  'Pickup City': 'Bangalore',\n  'Pickup State': 'KA',\n  'Drop Pincode': '500033',\n  'Drop city': 'HYDERABAD',\n  'Drop state': 'TS',\n  'Number of Delivery attempts needed': 0},\n {'Tracking number': '390950151411',\n  'Payment type': 'COD',\n  'Pickup Date Time': '2020-03-09T15:12:00+05:30',\n  'Delivery Date Time': '2020-03-13T14:44:00+05:30',\n  'Out for Delivery datetime(s)': [{'$numberLong': '1584072120000'}],\n  'Shipment weight': 14,\n  'Pickup Pincode': '560048',\n  'Pickup City': 'Bangalore',\n  'Pickup State': 'KA',\n  'Drop Pincode': '110009',\n  'Drop city': 'Delhi',\n  'Drop state': 'DL',\n  'Number of Delivery attempts needed': 0},\n {'Tracking number': '390950569057',\n  'Payment type': 'Prepaid',\n  'Pickup Date Time': '2020-03-09T15:12:00+05:30',\n  'Delivery Date Time': '2020-03-10T11:52:00+05:30',\n  'Out for Delivery datetime(s)': [{'$numberLong': '1583814360000'}],\n  'Shipment weight': 14,\n  'Pickup Pincode': '560048',\n  'Pickup City': 'Bangalore',\n  'Pickup State': 'KA',\n  'Drop Pincode': '560016',\n  'Drop city': 'Bengaluru',\n  'Drop state': 'KA',\n  'Number of Delivery attempts needed': 0},\n {'Tracking number': '391018768927',\n  'Payment type': 'Prepaid',\n  'Pickup Date Time': '2020-03-11T16:39:00+05:30',\n  'Delivery Date Time': '2020-03-18T19:26:00+05:30',\n  'Out for Delivery datetime(s)': [{'$numberLong': '1584509400000'}],\n  'Shipment weight': 28,\n  'Pickup Pincode': '560048',\n  'Pickup City': 'Bangalore',\n  'Pickup State': 'KA',\n  'Drop Pincode': '226010',\n  'Drop city': 'Lucknow',\n  'Drop state': 'UP',\n  'Number of Delivery attempts needed': 0},\n {'Tracking number': '390901927330',\n  'Payment type': 'Prepaid',\n  'Pickup Date Time': '2020-03-06T16:07:00+05:30',\n  'Delivery Date Time': '2020-03-12T13:49:00+05:30',\n  'Out for Delivery datetime(s)': [{'$numberLong': '1584008520000'},\n   {'$numberLong': '1583914740000'}],\n  'Shipment weight': 14,\n  'Pickup Pincode': '560048',\n  'Pickup City': 'Bangalore',\n  'Pickup State': 'KA',\n  'Drop Pincode': '500048',\n  'Drop city': 'HYDERABAD',\n  'Drop state': 'TS',\n  'Number of Delivery attempts needed': 0},\n {'Tracking number': '390932009368',\n  'Payment type': 'Prepaid',\n  'Pickup Date Time': '2020-03-07T16:27:00+05:30',\n  'Delivery Date Time': '2020-03-09T18:00:00+05:30',\n  'Out for Delivery datetime(s)': [],\n  'Shipment weight': 14,\n  'Pickup Pincode': '560048',\n  'Pickup City': 'Bangalore',\n  'Pickup State': 'KA',\n  'Drop Pincode': '500032',\n  'Drop city': 'HYDERABAD',\n  'Drop state': 'TS',\n  'Number of Delivery attempts needed': 0},\n {'Tracking number': '280902966660',\n  'Payment type': 'Prepaid',\n  'Pickup Date Time': '2021-06-29T19:07:00+05:30',\n  'Delivery Date Time': '2021-07-02T19:59:00+05:30',\n  'Out for Delivery datetime(s)': [],\n  'Shipment weight': 2.5,\n  'Pickup Pincode': '560048',\n  'Pickup City': 'Bangalore',\n  'Pickup State': 'KA',\n  'Drop Pincode': '500014',\n  'Drop city': 'Hyderabad',\n  'Drop state': 'TS',\n  'Number of Delivery attempts needed': 0},\n {'Tracking number': '390871801797',\n  'Payment type': 'Prepaid',\n  'Pickup Date Time': '2020-03-05T19:20:00+05:30',\n  'Delivery Date Time': '2020-03-06T10:40:00+05:30',\n  'Out for Delivery datetime(s)': [{'$numberLong': '1583467500000'}],\n  'Shipment weight': 14,\n  'Pickup Pincode': '560048',\n  'Pickup City': 'Bangalore',\n  'Pickup State': 'KA',\n  'Drop Pincode': '560068',\n  'Drop city': 'Bengaluru',\n  'Drop state': 'KA',\n  'Number of Delivery attempts needed': 0},\n {'Tracking number': '390767885350',\n  'Payment type': 'COD',\n  'Pickup Date Time': '2020-03-02T16:23:00+05:30',\n  'Delivery Date Time': '2020-03-04T14:11:00+05:30',\n  'Out for Delivery datetime(s)': [{'$numberLong': '1583306820000'}],\n  'Shipment weight': 14,\n  'Pickup Pincode': '560048',\n  'Pickup City': 'Bangalore',\n  'Pickup State': 'KA',\n  'Drop Pincode': '411014',\n  'Drop city': 'Pune',\n  'Drop state': 'MH',\n  'Number of Delivery attempts needed': 0},\n {'Tracking number': '390902302347',\n  'Payment type': 'Prepaid',\n  'Pickup Date Time': '2020-03-06T16:07:00+05:30',\n  'Delivery Date Time': '2020-03-07T11:06:00+05:30',\n  'Out for Delivery datetime(s)': [{'$numberLong': '1583561100000'}],\n  'Shipment weight': 14,\n  'Pickup Pincode': '560048',\n  'Pickup City': 'Bangalore',\n  'Pickup State': 'KA',\n  'Drop Pincode': '562123',\n  'Drop city': 'BANGALORE',\n  'Drop state': 'KA',\n  'Number of Delivery attempts needed': 0},\n {'Tracking number': '391017630155',\n  'Payment type': 'Prepaid',\n  'Pickup Date Time': '2020-03-11T16:39:00+05:30',\n  'Delivery Date Time': '2020-03-16T15:25:00+05:30',\n  'Out for Delivery datetime(s)': [{'$numberLong': '1584332340000'}],\n  'Shipment weight': 14,\n  'Pickup Pincode': '560048',\n  'Pickup City': 'Bangalore',\n  'Pickup State': 'KA',\n  'Drop Pincode': '110049',\n  'Drop city': 'New Delhi',\n  'Drop state': 'DL',\n  'Number of Delivery attempts needed': 0},\n {'Tracking number': '390839024061',\n  'Payment type': 'COD',\n  'Pickup Date Time': '2020-03-04T16:13:00+05:30',\n  'Delivery Date Time': '2020-03-09T14:45:00+05:30',\n  'Out for Delivery datetime(s)': [{'$numberLong': '1583728620000'}],\n  'Shipment weight': 14,\n  'Pickup Pincode': '560048',\n  'Pickup City': 'Bangalore',\n  'Pickup State': 'KA',\n  'Drop Pincode': '110027',\n  'Drop city': 'Delhi',\n  'Drop state': 'DL',\n  'Number of Delivery attempts needed': 0},\n {'Tracking number': '391080744877',\n  'Payment type': 'COD',\n  'Pickup Date Time': '2020-03-13T17:14:00+05:30',\n  'Delivery Date Time': '2020-03-16T15:40:00+05:30',\n  'Out for Delivery datetime(s)': [],\n  'Shipment weight': 14,\n  'Pickup Pincode': '560048',\n  'Pickup City': 'Bangalore',\n  'Pickup State': 'KA',\n  'Drop Pincode': '411029',\n  'Drop city': 'Pune',\n  'Drop state': 'MH',\n  'Number of Delivery attempts needed': 0},\n {'Tracking number': '391195866906',\n  'Payment type': 'COD',\n  'Pickup Date Time': '2020-03-18T17:08:00+05:30',\n  'Delivery Date Time': '2020-03-23T16:36:00+05:30',\n  'Out for Delivery datetime(s)': [{'$numberLong': '1584940860000'}],\n  'Shipment weight': 14,\n  'Pickup Pincode': '560048',\n  'Pickup City': 'Bangalore',\n  'Pickup State': 'KA',\n  'Drop Pincode': '122001',\n  'Drop city': 'GURGAON',\n  'Drop state': 'HR',\n  'Number of Delivery attempts needed': 0},\n {'Tracking number': '391049832078',\n  'Payment type': 'COD',\n  'Pickup Date Time': '2020-03-12T16:17:00+05:30',\n  'Delivery Date Time': '2020-03-18T17:02:00+05:30',\n  'Out for Delivery datetime(s)': [{'$numberLong': '1584519840000'}],\n  'Shipment weight': 14,\n  'Pickup Pincode': '560048',\n  'Pickup City': 'Bangalore',\n  'Pickup State': 'KA',\n  'Drop Pincode': '700034',\n  'Drop city': 'Kolkata',\n  'Drop state': 'WB',\n  'Number of Delivery attempts needed': 0},\n {'Tracking number': '280853182067',\n  'Payment type': 'Prepaid',\n  'Pickup Date Time': '2021-06-28T18:18:00+05:30',\n  'Delivery Date Time': '2021-07-02T19:19:00+05:30',\n  'Out for Delivery datetime(s)': [{'$numberLong': '1625209740000'},\n   {'$numberLong': '1625122260000'}],\n  'Shipment weight': 5,\n  'Pickup Pincode': '560048',\n  'Pickup City': 'Bangalore',\n  'Pickup State': 'KA',\n  'Drop Pincode': '600090',\n  'Drop city': 'Chennai',\n  'Drop state': 'TN',\n  'Number of Delivery attempts needed': 0},\n {'Tracking number': '390808808594',\n  'Payment type': 'Prepaid',\n  'Pickup Date Time': '2020-03-03T16:19:00+05:30',\n  'Delivery Date Time': '2020-03-05T13:39:00+05:30',\n  'Out for Delivery datetime(s)': [{'$numberLong': '1583386980000'}],\n  'Shipment weight': 14,\n  'Pickup Pincode': '560048',\n  'Pickup City': 'Bangalore',\n  'Pickup State': 'KA',\n  'Drop Pincode': '400071',\n  'Drop city': 'Mumbai',\n  'Drop state': 'MH',\n  'Number of Delivery attempts needed': 0},\n {'Tracking number': '391018775697',\n  'Payment type': 'COD',\n  'Pickup Date Time': '2020-03-11T16:39:00+05:30',\n  'Delivery Date Time': '2020-03-14T13:21:00+05:30',\n  'Out for Delivery datetime(s)': [{'$numberLong': '1584163320000'}],\n  'Shipment weight': 14,\n  'Pickup Pincode': '560048',\n  'Pickup City': 'Bangalore',\n  'Pickup State': 'KA',\n  'Drop Pincode': '440010',\n  'Drop city': 'Nagpur',\n  'Drop state': 'MH',\n  'Number of Delivery attempts needed': 0},\n {'Tracking number': '390948863631',\n  'Payment type': 'COD',\n  'Pickup Date Time': '2020-03-09T15:12:00+05:30',\n  'Delivery Date Time': '2020-03-11T15:30:00+05:30',\n  'Out for Delivery datetime(s)': [],\n  'Shipment weight': 14,\n  'Pickup Pincode': '560048',\n  'Pickup City': 'Bangalore',\n  'Pickup State': 'KA',\n  'Drop Pincode': '400004',\n  'Drop city': 'Mumbai',\n  'Drop state': 'MH',\n  'Number of Delivery attempts needed': 0},\n {'Tracking number': '390767878200',\n  'Payment type': 'Prepaid',\n  'Pickup Date Time': '2020-03-02T16:23:00+05:30',\n  'Delivery Date Time': '2020-03-03T17:36:00+05:30',\n  'Out for Delivery datetime(s)': [{'$numberLong': '1583208780000'}],\n  'Shipment weight': 14,\n  'Pickup Pincode': '560048',\n  'Pickup City': 'Bangalore',\n  'Pickup State': 'KA',\n  'Drop Pincode': '560103',\n  'Drop city': 'Bangalore',\n  'Drop state': 'KA',\n  'Number of Delivery attempts needed': 0},\n {'Tracking number': '390871721487',\n  'Payment type': 'Prepaid',\n  'Pickup Date Time': '2020-03-05T19:20:00+05:30',\n  'Delivery Date Time': '2020-03-06T14:00:00+05:30',\n  'Out for Delivery datetime(s)': [{'$numberLong': '1583468820000'}],\n  'Shipment weight': 28,\n  'Pickup Pincode': '560048',\n  'Pickup City': 'Bangalore',\n  'Pickup State': 'KA',\n  'Drop Pincode': '570004',\n  'Drop city': 'Mysuru',\n  'Drop state': 'KA',\n  'Number of Delivery attempts needed': 0},\n {'Tracking number': '390871798135',\n  'Payment type': 'Prepaid',\n  'Pickup Date Time': '2020-03-05T19:20:00+05:30',\n  'Delivery Date Time': '2020-03-09T18:30:00+05:30',\n  'Out for Delivery datetime(s)': [{'$numberLong': '1583726880000'}],\n  'Shipment weight': 14,\n  'Pickup Pincode': '560048',\n  'Pickup City': 'Bangalore',\n  'Pickup State': 'KA',\n  'Drop Pincode': '400054',\n  'Drop city': 'Mumbai',\n  'Drop state': 'MH',\n  'Number of Delivery attempts needed': 0},\n {'Tracking number': '390769051308',\n  'Payment type': 'Prepaid',\n  'Pickup Date Time': '2020-03-02T16:23:00+05:30',\n  'Delivery Date Time': '2020-03-06T18:19:00+05:30',\n  'Out for Delivery datetime(s)': [{'$numberLong': '1583474460000'},\n   {'$numberLong': '1583390760000'},\n   {'$numberLong': '1583304060000'}],\n  'Shipment weight': 14,\n  'Pickup Pincode': '560048',\n  'Pickup City': 'Bangalore',\n  'Pickup State': 'KA',\n  'Drop Pincode': '411006',\n  'Drop city': 'Pune',\n  'Drop state': 'MH',\n  'Number of Delivery attempts needed': 0},\n {'Tracking number': '390948867394',\n  'Payment type': 'Prepaid',\n  'Pickup Date Time': '2020-03-09T15:12:00+05:30',\n  'Delivery Date Time': '2020-03-12T12:30:00+05:30',\n  'Out for Delivery datetime(s)': [],\n  'Shipment weight': 14,\n  'Pickup Pincode': '560048',\n  'Pickup City': 'Bangalore',\n  'Pickup State': 'KA',\n  'Drop Pincode': '390005',\n  'Drop city': 'Vadodara',\n  'Drop state': 'GJ',\n  'Number of Delivery attempts needed': 0},\n {'Tracking number': '391080357350',\n  'Payment type': 'Prepaid',\n  'Pickup Date Time': '2020-03-13T17:14:00+05:30',\n  'Delivery Date Time': '2020-03-16T16:40:00+05:30',\n  'Out for Delivery datetime(s)': [{'$numberLong': '1584338700000'}],\n  'Shipment weight': 14,\n  'Pickup Pincode': '560048',\n  'Pickup City': 'Bangalore',\n  'Pickup State': 'KA',\n  'Drop Pincode': '400053',\n  'Drop city': 'Mumbai',\n  'Drop state': 'MH',\n  'Number of Delivery attempts needed': 0},\n {'Tracking number': '390769041097',\n  'Payment type': 'COD',\n  'Pickup Date Time': '2020-03-02T16:23:00+05:30',\n  'Delivery Date Time': '2020-03-05T16:20:00+05:30',\n  'Out for Delivery datetime(s)': [{'$numberLong': '1583387280000'}],\n  'Shipment weight': 14,\n  'Pickup Pincode': '560048',\n  'Pickup City': 'Bangalore',\n  'Pickup State': 'KA',\n  'Drop Pincode': '440022',\n  'Drop city': 'Nagpur',\n  'Drop state': 'MH',\n  'Number of Delivery attempts needed': 0},\n {'Tracking number': '390767756692',\n  'Payment type': 'Prepaid',\n  'Pickup Date Time': '2020-03-02T16:23:00+05:30',\n  'Delivery Date Time': '2020-03-04T19:00:00+05:30',\n  'Out for Delivery datetime(s)': [],\n  'Shipment weight': 14,\n  'Pickup Pincode': '560048',\n  'Pickup City': 'Bangalore',\n  'Pickup State': 'KA',\n  'Drop Pincode': '411014',\n  'Drop city': 'Pune',\n  'Drop state': 'MH',\n  'Number of Delivery attempts needed': 0},\n {'Tracking number': '391128713604',\n  'Payment type': 'COD',\n  'Pickup Date Time': '2020-03-16T15:44:00+05:30',\n  'Delivery Date Time': '2020-03-21T10:50:00+05:30',\n  'Out for Delivery datetime(s)': [{'$numberLong': '1584763740000'},\n   {'$numberLong': '1584678780000'}],\n  'Shipment weight': 14,\n  'Pickup Pincode': '560048',\n  'Pickup City': 'Bangalore',\n  'Pickup State': 'KA',\n  'Drop Pincode': '110007',\n  'Drop city': 'New Delhi',\n  'Drop state': 'DL',\n  'Number of Delivery attempts needed': 0},\n {'Tracking number': '390767773927',\n  'Payment type': 'Prepaid',\n  'Pickup Date Time': '2020-03-02T16:23:00+05:30',\n  'Delivery Date Time': '2020-03-04T13:00:00+05:30',\n  'Out for Delivery datetime(s)': [{'$numberLong': '1583299200000'}],\n  'Shipment weight': 14,\n  'Pickup Pincode': '560048',\n  'Pickup City': 'Bangalore',\n  'Pickup State': 'KA',\n  'Drop Pincode': '400025',\n  'Drop city': 'Mumbai',\n  'Drop state': 'MH',\n  'Number of Delivery attempts needed': 0},\n {'Tracking number': '390987545399',\n  'Payment type': 'COD',\n  'Pickup Date Time': '2020-03-10T15:59:00+05:30',\n  'Delivery Date Time': '2020-03-12T14:55:00+05:30',\n  'Out for Delivery datetime(s)': [{'$numberLong': '1584007020000'}],\n  'Shipment weight': 14,\n  'Pickup Pincode': '560048',\n  'Pickup City': 'Bangalore',\n  'Pickup State': 'KA',\n  'Drop Pincode': '500039',\n  'Drop city': 'HYDERABAD',\n  'Drop state': 'TS',\n  'Number of Delivery attempts needed': 0},\n {'Tracking number': '390871765957',\n  'Payment type': 'COD',\n  'Pickup Date Time': '2020-03-05T19:20:00+05:30',\n  'Delivery Date Time': '2020-03-07T18:00:00+05:30',\n  'Out for Delivery datetime(s)': [{'$numberLong': '1583567160000'}],\n  'Shipment weight': 14,\n  'Pickup Pincode': '560048',\n  'Pickup City': 'Bangalore',\n  'Pickup State': 'KA',\n  'Drop Pincode': '500075',\n  'Drop city': 'Hyderabad',\n  'Drop state': 'TS',\n  'Number of Delivery attempts needed': 0},\n {'Tracking number': '391049864544',\n  'Payment type': 'Prepaid',\n  'Pickup Date Time': '2020-03-12T16:17:00+05:30',\n  'Delivery Date Time': '2020-03-17T18:07:00+05:30',\n  'Out for Delivery datetime(s)': [{'$numberLong': '1584427800000'},\n   {'$numberLong': '1584361260000'}],\n  'Shipment weight': 14,\n  'Pickup Pincode': '560048',\n  'Pickup City': 'Bangalore',\n  'Pickup State': 'KA',\n  'Drop Pincode': '440011',\n  'Drop city': 'Nagpur',\n  'Drop state': 'MH',\n  'Number of Delivery attempts needed': 0},\n {'Tracking number': '390767863940',\n  'Payment type': 'Prepaid',\n  'Pickup Date Time': '2020-03-02T16:23:00+05:30',\n  'Delivery Date Time': '2020-03-07T18:30:00+05:30',\n  'Out for Delivery datetime(s)': [{'$numberLong': '1583561400000'},\n   {'$numberLong': '1583477520000'}],\n  'Shipment weight': 14,\n  'Pickup Pincode': '560048',\n  'Pickup City': 'Bangalore',\n  'Pickup State': 'KA',\n  'Drop Pincode': '122018',\n  'Drop city': 'Gurgaon',\n  'Drop state': 'HR',\n  'Number of Delivery attempts needed': 0},\n {'Tracking number': '390948901463',\n  'Payment type': 'Prepaid',\n  'Pickup Date Time': '2020-03-09T15:12:00+05:30',\n  'Delivery Date Time': '2020-03-10T18:48:00+05:30',\n  'Out for Delivery datetime(s)': [{'$numberLong': '1583812800000'}],\n  'Shipment weight': 14,\n  'Pickup Pincode': '560048',\n  'Pickup City': 'Bangalore',\n  'Pickup State': 'KA',\n  'Drop Pincode': '560047',\n  'Drop city': 'Bengaluru',\n  'Drop state': 'KA',\n  'Number of Delivery attempts needed': 0},\n {'Tracking number': '390950797924',\n  'Payment type': 'Prepaid',\n  'Pickup Date Time': '2020-03-09T15:12:00+05:30',\n  'Delivery Date Time': '2020-03-10T15:30:00+05:30',\n  'Out for Delivery datetime(s)': [{'$numberLong': '1583813700000'}],\n  'Shipment weight': 14,\n  'Pickup Pincode': '560048',\n  'Pickup City': 'Bangalore',\n  'Pickup State': 'KA',\n  'Drop Pincode': '560038',\n  'Drop city': 'Bangalore',\n  'Drop state': 'KA',\n  'Number of Delivery attempts needed': 0},\n {'Tracking number': '390767768950',\n  'Payment type': 'COD',\n  'Pickup Date Time': '2020-03-02T16:23:00+05:30',\n  'Delivery Date Time': '2020-03-05T17:30:00+05:30',\n  'Out for Delivery datetime(s)': [],\n  'Shipment weight': 14,\n  'Pickup Pincode': '560048',\n  'Pickup City': 'Bangalore',\n  'Pickup State': 'KA',\n  'Drop Pincode': '491441',\n  'Drop city': 'Rajnandgaon',\n  'Drop state': 'CT',\n  'Number of Delivery attempts needed': 0},\n {'Tracking number': '390839698450',\n  'Payment type': 'Prepaid',\n  'Pickup Date Time': '2020-03-05T19:20:00+05:30',\n  'Delivery Date Time': '2020-03-11T17:09:00+05:30',\n  'Out for Delivery datetime(s)': [{'$numberLong': '1583917140000'}],\n  'Shipment weight': 14,\n  'Pickup Pincode': '560048',\n  'Pickup City': 'Bangalore',\n  'Pickup State': 'KA',\n  'Drop Pincode': '700017',\n  'Drop city': 'Kolkata',\n  'Drop state': 'WB',\n  'Number of Delivery attempts needed': 0},\n {'Tracking number': '391080351396',\n  'Payment type': 'COD',\n  'Pickup Date Time': '2020-03-13T17:14:00+05:30',\n  'Delivery Date Time': '2020-03-17T13:21:00+05:30',\n  'Out for Delivery datetime(s)': [{'$numberLong': '1584420180000'}],\n  'Shipment weight': 14,\n  'Pickup Pincode': '560048',\n  'Pickup City': 'Bangalore',\n  'Pickup State': 'KA',\n  'Drop Pincode': '110048',\n  'Drop city': 'New Delhi',\n  'Drop state': 'DL',\n  'Number of Delivery attempts needed': 0},\n {'Tracking number': '390948893060',\n  'Payment type': 'Prepaid',\n  'Pickup Date Time': '2020-03-09T15:12:00+05:30',\n  'Delivery Date Time': '2020-03-10T13:33:00+05:30',\n  'Out for Delivery datetime(s)': [{'$numberLong': '1583813400000'}],\n  'Shipment weight': 14,\n  'Pickup Pincode': '560048',\n  'Pickup City': 'Bangalore',\n  'Pickup State': 'KA',\n  'Drop Pincode': '560001',\n  'Drop city': 'Bengaluru',\n  'Drop state': 'KA',\n  'Number of Delivery attempts needed': 0},\n {'Tracking number': '390948915036',\n  'Payment type': 'COD',\n  'Pickup Date Time': '2020-03-09T15:12:00+05:30',\n  'Delivery Date Time': '2020-03-12T11:51:00+05:30',\n  'Out for Delivery datetime(s)': [{'$numberLong': '1583990160000'}],\n  'Shipment weight': 14,\n  'Pickup Pincode': '560048',\n  'Pickup City': 'Bangalore',\n  'Pickup State': 'KA',\n  'Drop Pincode': '452001',\n  'Drop city': 'Indore',\n  'Drop state': 'MP',\n  'Number of Delivery attempts needed': 0},\n {'Tracking number': '390901942719',\n  'Payment type': 'COD',\n  'Pickup Date Time': '2020-03-06T16:07:00+05:30',\n  'Delivery Date Time': '2020-03-11T18:00:00+05:30',\n  'Out for Delivery datetime(s)': [],\n  'Shipment weight': 14,\n  'Pickup Pincode': '560048',\n  'Pickup City': 'Bangalore',\n  'Pickup State': 'KA',\n  'Drop Pincode': '500081',\n  'Drop city': 'Hyderabad',\n  'Drop state': 'TS',\n  'Number of Delivery attempts needed': 0},\n {'Tracking number': '391080316258',\n  'Payment type': 'COD',\n  'Pickup Date Time': '2020-03-13T17:14:00+05:30',\n  'Delivery Date Time': '2020-03-16T15:09:00+05:30',\n  'Out for Delivery datetime(s)': [],\n  'Shipment weight': 14,\n  'Pickup Pincode': '560048',\n  'Pickup City': 'Bangalore',\n  'Pickup State': 'KA',\n  'Drop Pincode': '400001',\n  'Drop city': 'Mumbai',\n  'Drop state': 'MH',\n  'Number of Delivery attempts needed': 0},\n {'Tracking number': '280902855329',\n  'Payment type': 'Prepaid',\n  'Pickup Date Time': '2021-06-29T19:07:00+05:30',\n  'Delivery Date Time': '2021-07-05T15:57:00+05:30',\n  'Out for Delivery datetime(s)': [{'$numberLong': '1625464560000'},\n   {'$numberLong': '1625304660000'}],\n  'Shipment weight': 2,\n  'Pickup Pincode': '560048',\n  'Pickup City': 'Bangalore',\n  'Pickup State': 'KA',\n  'Drop Pincode': '110029',\n  'Drop city': 'Delhi',\n  'Drop state': 'DL',\n  'Number of Delivery attempts needed': 0},\n {'Tracking number': '390932015238',\n  'Payment type': 'COD',\n  'Pickup Date Time': '2020-03-07T16:27:00+05:30',\n  'Delivery Date Time': '2020-03-10T18:00:00+05:30',\n  'Out for Delivery datetime(s)': [{'$numberLong': '1583824080000'}],\n  'Shipment weight': 14,\n  'Pickup Pincode': '560048',\n  'Pickup City': 'Bangalore',\n  'Pickup State': 'KA',\n  'Drop Pincode': '500033',\n  'Drop city': 'Hyderabad',\n  'Drop state': 'TS',\n  'Number of Delivery attempts needed': 0},\n {'Tracking number': '390808005402',\n  'Payment type': 'Prepaid',\n  'Pickup Date Time': '2020-03-03T16:19:00+05:30',\n  'Delivery Date Time': '2020-03-06T18:15:00+05:30',\n  'Out for Delivery datetime(s)': [],\n  'Shipment weight': 14,\n  'Pickup Pincode': '560048',\n  'Pickup City': 'Bangalore',\n  'Pickup State': 'KA',\n  'Drop Pincode': '500049',\n  'Drop city': 'Hyderabad',\n  'Drop state': 'TS',\n  'Number of Delivery attempts needed': 0},\n {'Tracking number': '390948897537',\n  'Payment type': 'COD',\n  'Pickup Date Time': '2020-03-09T15:12:00+05:30',\n  'Delivery Date Time': '2020-03-14T12:49:00+05:30',\n  'Out for Delivery datetime(s)': [{'$numberLong': '1584165660000'}],\n  'Shipment weight': 14,\n  'Pickup Pincode': '560048',\n  'Pickup City': 'Bangalore',\n  'Pickup State': 'KA',\n  'Drop Pincode': '411001',\n  'Drop city': 'Pune',\n  'Drop state': 'MH',\n  'Number of Delivery attempts needed': 0},\n {'Tracking number': '391049835905',\n  'Payment type': 'Prepaid',\n  'Pickup Date Time': '2020-03-12T16:17:00+05:30',\n  'Delivery Date Time': '2020-03-17T13:00:00+05:30',\n  'Out for Delivery datetime(s)': [{'$numberLong': '1584343320000'}],\n  'Shipment weight': 14,\n  'Pickup Pincode': '560048',\n  'Pickup City': 'Bangalore',\n  'Pickup State': 'KA',\n  'Drop Pincode': '380015',\n  'Drop city': 'Ahmedabad',\n  'Drop state': 'GJ',\n  'Number of Delivery attempts needed': 0},\n {'Tracking number': '390871789380',\n  'Payment type': 'Prepaid',\n  'Pickup Date Time': '2020-03-05T19:20:00+05:30',\n  'Delivery Date Time': '2020-03-09T12:10:00+05:30',\n  'Out for Delivery datetime(s)': [{'$numberLong': '1583736000000'},\n   {'$numberLong': '1583726880000'}],\n  'Shipment weight': 14,\n  'Pickup Pincode': '560048',\n  'Pickup City': 'Bangalore',\n  'Pickup State': 'KA',\n  'Drop Pincode': '400054',\n  'Drop city': 'Mumbai',\n  'Drop state': 'MH',\n  'Number of Delivery attempts needed': 0},\n {'Tracking number': '390931995152',\n  'Payment type': 'COD',\n  'Pickup Date Time': '2020-03-07T16:27:00+05:30',\n  'Delivery Date Time': '2020-03-13T13:54:00+05:30',\n  'Out for Delivery datetime(s)': [{'$numberLong': '1584085020000'}],\n  'Shipment weight': 14,\n  'Pickup Pincode': '560048',\n  'Pickup City': 'Bangalore',\n  'Pickup State': 'KA',\n  'Drop Pincode': '313001',\n  'Drop city': 'Udaipur',\n  'Drop state': 'RJ',\n  'Number of Delivery attempts needed': 0},\n {'Tracking number': '391080697205',\n  'Payment type': 'COD',\n  'Pickup Date Time': '2020-03-13T17:14:00+05:30',\n  'Delivery Date Time': '2020-03-16T16:25:00+05:30',\n  'Out for Delivery datetime(s)': [],\n  'Shipment weight': 14,\n  'Pickup Pincode': '560048',\n  'Pickup City': 'Bangalore',\n  'Pickup State': 'KA',\n  'Drop Pincode': '411029',\n  'Drop city': 'Pune',\n  'Drop state': 'MH',\n  'Number of Delivery attempts needed': 0},\n {'Tracking number': '391128770200',\n  'Payment type': 'Prepaid',\n  'Pickup Date Time': '2020-03-16T15:44:00+05:30',\n  'Delivery Date Time': '2020-03-20T16:55:00+05:30',\n  'Out for Delivery datetime(s)': [{'$numberLong': '1584679860000'}],\n  'Shipment weight': 14,\n  'Pickup Pincode': '560048',\n  'Pickup City': 'Bangalore',\n  'Pickup State': 'KA',\n  'Drop Pincode': '122002',\n  'Drop city': 'Gurgaon',\n  'Drop state': 'HR',\n  'Number of Delivery attempts needed': 0},\n {'Tracking number': '390950240108',\n  'Payment type': 'Prepaid',\n  'Pickup Date Time': '2020-03-09T15:12:00+05:30',\n  'Delivery Date Time': '2020-03-12T16:00:00+05:30',\n  'Out for Delivery datetime(s)': [],\n  'Shipment weight': 28,\n  'Pickup Pincode': '560048',\n  'Pickup City': 'Bangalore',\n  'Pickup State': 'KA',\n  'Drop Pincode': '400053',\n  'Drop city': 'Mumbai',\n  'Drop state': 'MH',\n  'Number of Delivery attempts needed': 0},\n {'Tracking number': '390767808307',\n  'Payment type': 'Prepaid',\n  'Pickup Date Time': '2020-03-02T16:23:00+05:30',\n  'Delivery Date Time': '2020-03-06T18:28:00+05:30',\n  'Out for Delivery datetime(s)': [],\n  'Shipment weight': 14,\n  'Pickup Pincode': '560048',\n  'Pickup City': 'Bangalore',\n  'Pickup State': 'KA',\n  'Drop Pincode': '201310',\n  'Drop city': 'Greater Noida',\n  'Drop state': 'UP',\n  'Number of Delivery attempts needed': 0},\n {'Tracking number': '391128738630',\n  'Payment type': 'Prepaid',\n  'Pickup Date Time': '2020-03-16T15:44:00+05:30',\n  'Delivery Date Time': '2020-03-18T14:08:00+05:30',\n  'Out for Delivery datetime(s)': [{'$numberLong': '1584508800000'}],\n  'Shipment weight': 14,\n  'Pickup Pincode': '560048',\n  'Pickup City': 'Bangalore',\n  'Pickup State': 'KA',\n  'Drop Pincode': '400089',\n  'Drop city': 'Mumbai',\n  'Drop state': 'MH',\n  'Number of Delivery attempts needed': 0},\n {'Tracking number': '390902329207',\n  'Payment type': 'Prepaid',\n  'Pickup Date Time': '2020-03-06T16:07:00+05:30',\n  'Delivery Date Time': '2020-03-07T11:06:00+05:30',\n  'Out for Delivery datetime(s)': [{'$numberLong': '1583561100000'}],\n  'Shipment weight': 28,\n  'Pickup Pincode': '560048',\n  'Pickup City': 'Bangalore',\n  'Pickup State': 'KA',\n  'Drop Pincode': '562123',\n  'Drop city': 'BANGALORE',\n  'Drop state': 'KA',\n  'Number of Delivery attempts needed': 0},\n {'Tracking number': '391198356290',\n  'Payment type': 'COD',\n  'Pickup Date Time': '2020-03-18T17:08:00+05:30',\n  'Delivery Date Time': '2020-04-10T09:25:00+05:30',\n  'Out for Delivery datetime(s)': [],\n  'Shipment weight': 14,\n  'Pickup Pincode': '560048',\n  'Pickup City': 'Bangalore',\n  'Pickup State': 'KA',\n  'Drop Pincode': '613007',\n  'Drop city': 'Thanjavur',\n  'Drop state': 'TN',\n  'Number of Delivery attempts needed': 0},\n {'Tracking number': '390931713959',\n  'Payment type': 'Prepaid',\n  'Pickup Date Time': '2020-03-07T16:27:00+05:30',\n  'Delivery Date Time': '2020-03-11T15:19:00+05:30',\n  'Out for Delivery datetime(s)': [{'$numberLong': '1583903160000'}],\n  'Shipment weight': 14,\n  'Pickup Pincode': '560048',\n  'Pickup City': 'Bangalore',\n  'Pickup State': 'KA',\n  'Drop Pincode': '122002',\n  'Drop city': 'Gurgaon',\n  'Drop state': 'HR',\n  'Number of Delivery attempts needed': 0},\n {'Tracking number': '391017620614',\n  'Payment type': 'Prepaid',\n  'Pickup Date Time': '2020-03-11T16:39:00+05:30',\n  'Delivery Date Time': '2020-03-16T16:32:00+05:30',\n  'Out for Delivery datetime(s)': [{'$numberLong': '1584334200000'}],\n  'Shipment weight': 14,\n  'Pickup Pincode': '560048',\n  'Pickup City': 'Bangalore',\n  'Pickup State': 'KA',\n  'Drop Pincode': '110060',\n  'Drop city': 'Delhi',\n  'Drop state': 'DL',\n  'Number of Delivery attempts needed': 0},\n {'Tracking number': '390932012191',\n  'Payment type': 'COD',\n  'Pickup Date Time': '2020-03-07T16:27:00+05:30',\n  'Delivery Date Time': '2020-03-10T16:00:00+05:30',\n  'Out for Delivery datetime(s)': [],\n  'Shipment weight': 14,\n  'Pickup Pincode': '560048',\n  'Pickup City': 'Bangalore',\n  'Pickup State': 'KA',\n  'Drop Pincode': '673004',\n  'Drop city': 'Kozhikode',\n  'Drop state': 'KL',\n  'Number of Delivery attempts needed': 0},\n {'Tracking number': '390871747925',\n  'Payment type': 'Prepaid',\n  'Pickup Date Time': '2020-03-05T19:20:00+05:30',\n  'Delivery Date Time': '2020-03-09T15:49:00+05:30',\n  'Out for Delivery datetime(s)': [{'$numberLong': '1583735940000'}],\n  'Shipment weight': 14,\n  'Pickup Pincode': '560048',\n  'Pickup City': 'Bangalore',\n  'Pickup State': 'KA',\n  'Drop Pincode': '452016',\n  'Drop city': 'indore',\n  'Drop state': 'MP',\n  'Number of Delivery attempts needed': 0},\n {'Tracking number': '391128574287',\n  'Payment type': 'COD',\n  'Pickup Date Time': '2020-03-16T15:44:00+05:30',\n  'Delivery Date Time': '2020-03-20T12:59:00+05:30',\n  'Out for Delivery datetime(s)': [{'$numberLong': '1584679800000'}],\n  'Shipment weight': 14,\n  'Pickup Pincode': '560048',\n  'Pickup City': 'Bangalore',\n  'Pickup State': 'KA',\n  'Drop Pincode': '122002',\n  'Drop city': 'Gurugram',\n  'Drop state': 'HR',\n  'Number of Delivery attempts needed': 0},\n {'Tracking number': '391109027000',\n  'Payment type': 'COD',\n  'Pickup Date Time': '2020-03-14T16:35:00+05:30',\n  'Delivery Date Time': '2020-03-20T15:55:00+05:30',\n  'Out for Delivery datetime(s)': [{'$numberLong': '1584690540000'}],\n  'Shipment weight': 14,\n  'Pickup Pincode': '560048',\n  'Pickup City': 'Bangalore',\n  'Pickup State': 'KA',\n  'Drop Pincode': '490023',\n  'Drop city': 'Bhilai',\n  'Drop state': 'CT',\n  'Number of Delivery attempts needed': 0},\n {'Tracking number': '391049862758',\n  'Payment type': 'COD',\n  'Pickup Date Time': '2020-03-12T16:17:00+05:30',\n  'Delivery Date Time': '2020-03-14T16:00:00+05:30',\n  'Out for Delivery datetime(s)': [{'$numberLong': '1584159360000'}],\n  'Shipment weight': 14,\n  'Pickup Pincode': '560048',\n  'Pickup City': 'Bangalore',\n  'Pickup State': 'KA',\n  'Drop Pincode': '400086',\n  'Drop city': 'Mumbai',\n  'Drop state': 'MH',\n  'Number of Delivery attempts needed': 0},\n {'Tracking number': '390931989124',\n  'Payment type': 'Prepaid',\n  'Pickup Date Time': '2020-03-07T16:27:00+05:30',\n  'Delivery Date Time': '2020-03-11T15:19:00+05:30',\n  'Out for Delivery datetime(s)': [{'$numberLong': '1583903160000'}],\n  'Shipment weight': 28,\n  'Pickup Pincode': '560048',\n  'Pickup City': 'Bangalore',\n  'Pickup State': 'KA',\n  'Drop Pincode': '122002',\n  'Drop city': 'GURGAON',\n  'Drop state': 'HR',\n  'Number of Delivery attempts needed': 0},\n {'Tracking number': '391195859433',\n  'Payment type': 'Prepaid',\n  'Pickup Date Time': '2020-03-18T17:08:00+05:30',\n  'Delivery Date Time': '2020-03-20T15:30:00+05:30',\n  'Out for Delivery datetime(s)': [{'$numberLong': '1584698520000'}],\n  'Shipment weight': 14,\n  'Pickup Pincode': '560048',\n  'Pickup City': 'Bangalore',\n  'Pickup State': 'KA',\n  'Drop Pincode': '500039',\n  'Drop city': 'HYDERABAD',\n  'Drop state': 'TS',\n  'Number of Delivery attempts needed': 0},\n {'Tracking number': '390871742485',\n  'Payment type': 'Prepaid',\n  'Pickup Date Time': '2020-03-05T19:20:00+05:30',\n  'Delivery Date Time': '2020-03-06T14:00:00+05:30',\n  'Out for Delivery datetime(s)': [{'$numberLong': '1583468820000'}],\n  'Shipment weight': 14,\n  'Pickup Pincode': '560048',\n  'Pickup City': 'Bangalore',\n  'Pickup State': 'KA',\n  'Drop Pincode': '570004',\n  'Drop city': 'Mysore',\n  'Drop state': 'KA',\n  'Number of Delivery attempts needed': 0},\n {'Tracking number': '391049866890',\n  'Payment type': 'Prepaid',\n  'Pickup Date Time': '2020-03-12T16:17:00+05:30',\n  'Delivery Date Time': '2020-03-16T16:26:00+05:30',\n  'Out for Delivery datetime(s)': [{'$numberLong': '1584338220000'}],\n  'Shipment weight': 14,\n  'Pickup Pincode': '560048',\n  'Pickup City': 'Bangalore',\n  'Pickup State': 'KA',\n  'Drop Pincode': '530017',\n  'Drop city': 'Visakhapatnam',\n  'Drop state': 'AP',\n  'Number of Delivery attempts needed': 0},\n {'Tracking number': '390948910847',\n  'Payment type': 'Prepaid',\n  'Pickup Date Time': '2020-03-09T15:12:00+05:30',\n  'Delivery Date Time': '2020-03-12T13:45:00+05:30',\n  'Out for Delivery datetime(s)': [{'$numberLong': '1583982660000'}],\n  'Shipment weight': 14,\n  'Pickup Pincode': '560048',\n  'Pickup City': 'Bangalore',\n  'Pickup State': 'KA',\n  'Drop Pincode': '400097',\n  'Drop city': 'Mumbai',\n  'Drop state': 'MH',\n  'Number of Delivery attempts needed': 0},\n {'Tracking number': '391018754107',\n  'Payment type': 'COD',\n  'Pickup Date Time': '2020-03-11T16:39:00+05:30',\n  'Delivery Date Time': '2020-03-14T13:17:00+05:30',\n  'Out for Delivery datetime(s)': [{'$numberLong': '1584163380000'}],\n  'Shipment weight': 14,\n  'Pickup Pincode': '560048',\n  'Pickup City': 'Bangalore',\n  'Pickup State': 'KA',\n  'Drop Pincode': '440010',\n  'Drop city': 'Nagpur',\n  'Drop state': 'MH',\n  'Number of Delivery attempts needed': 0},\n {'Tracking number': '280998636780',\n  'Payment type': 'Prepaid',\n  'Pickup Date Time': '2021-07-03T18:10:00+05:30',\n  'Delivery Date Time': '2021-07-07T17:34:00+05:30',\n  'Out for Delivery datetime(s)': [{'$numberLong': '1625636280000'},\n   {'$numberLong': '1625555820000'}],\n  'Shipment weight': 3.8,\n  'Pickup Pincode': '400012',\n  'Pickup City': 'Mumbai',\n  'Pickup State': 'MH',\n  'Drop Pincode': '395007',\n  'Drop city': 'Surat',\n  'Drop state': 'GJ',\n  'Number of Delivery attempts needed': 0},\n {'Tracking number': '281176409884',\n  'Payment type': 'Prepaid',\n  'Pickup Date Time': '2021-07-08T16:53:00+05:30',\n  'Delivery Date Time': '2021-07-13T16:13:00+05:30',\n  'Out for Delivery datetime(s)': [{'$numberLong': '1626152100000'},\n   {'$numberLong': '1626068400000'}],\n  'Shipment weight': 6,\n  'Pickup Pincode': '400012',\n  'Pickup City': 'Mumbai',\n  'Pickup State': 'MH',\n  'Drop Pincode': '500034',\n  'Drop city': 'Hyderabad',\n  'Drop state': 'TS',\n  'Number of Delivery attempts needed': 0},\n {'Tracking number': '281097610455',\n  'Payment type': 'Prepaid',\n  'Pickup Date Time': '2021-07-05T16:13:00+05:30',\n  'Delivery Date Time': '2021-07-09T16:37:00+05:30',\n  'Out for Delivery datetime(s)': [],\n  'Shipment weight': 18,\n  'Pickup Pincode': '400012',\n  'Pickup City': 'Mumbai',\n  'Pickup State': 'MH',\n  'Drop Pincode': '560038',\n  'Drop city': 'Bangalore',\n  'Drop state': 'KA',\n  'Number of Delivery attempts needed': 0},\n {'Tracking number': '281333571565',\n  'Payment type': 'Prepaid',\n  'Pickup Date Time': '2021-07-12T19:20:00+05:30',\n  'Delivery Date Time': '2021-07-14T12:35:00+05:30',\n  'Out for Delivery datetime(s)': [{'$numberLong': '1626239340000'},\n   {'$numberLong': '1626150720000'}],\n  'Shipment weight': 38,\n  'Pickup Pincode': '400012',\n  'Pickup City': 'Mumbai',\n  'Pickup State': 'MH',\n  'Drop Pincode': '400088',\n  'Drop city': 'Mumbai',\n  'Drop state': 'MH',\n  'Number of Delivery attempts needed': 0},\n {'Tracking number': '281095533884',\n  'Payment type': 'Prepaid',\n  'Pickup Date Time': '2021-07-07T19:22:00+05:30',\n  'Delivery Date Time': '2021-07-14T18:53:00+05:30',\n  'Out for Delivery datetime(s)': [{'$numberLong': '1626246120000'}],\n  'Shipment weight': 12,\n  'Pickup Pincode': '403722',\n  'Pickup City': 'Goa',\n  'Pickup State': 'GA',\n  'Drop Pincode': '600050',\n  'Drop city': 'Chennai',\n  'Drop state': 'TN',\n  'Number of Delivery attempts needed': 0},\n {'Tracking number': '280267329094',\n  'Payment type': 'Prepaid',\n  'Pickup Date Time': '2021-06-11T18:56:00+05:30',\n  'Delivery Date Time': '2021-06-16T11:28:00+05:30',\n  'Out for Delivery datetime(s)': [],\n  'Shipment weight': 20,\n  'Pickup Pincode': '110064',\n  'Pickup City': 'Delhi',\n  'Pickup State': 'DL',\n  'Drop Pincode': '201301',\n  'Drop city': 'Noida',\n  'Drop state': 'UP',\n  'Number of Delivery attempts needed': 0},\n {'Tracking number': '280267328981',\n  'Payment type': 'Prepaid',\n  'Pickup Date Time': '2021-06-11T18:56:00+05:30',\n  'Delivery Date Time': '2021-06-18T17:18:00+05:30',\n  'Out for Delivery datetime(s)': [],\n  'Shipment weight': 20,\n  'Pickup Pincode': '110064',\n  'Pickup City': 'Delhi',\n  'Pickup State': 'DL',\n  'Drop Pincode': '500050',\n  'Drop city': 'Hyderabad',\n  'Drop state': 'TS',\n  'Number of Delivery attempts needed': 0},\n {'Tracking number': '281038348186',\n  'Payment type': 'Prepaid',\n  'Pickup Date Time': '2021-07-03T18:03:00+05:30',\n  'Delivery Date Time': '2021-07-07T16:13:00+05:30',\n  'Out for Delivery datetime(s)': [{'$numberLong': '1625639580000'},\n   {'$numberLong': '1625549100000'}],\n  'Shipment weight': 2,\n  'Pickup Pincode': '400059',\n  'Pickup City': 'Mumbai',\n  'Pickup State': 'MH',\n  'Drop Pincode': '411048',\n  'Drop city': 'Pune',\n  'Drop state': 'MH',\n  'Number of Delivery attempts needed': 0},\n {'Tracking number': '280439181099',\n  'Payment type': 'Prepaid',\n  'Pickup Date Time': '2021-06-16T19:22:00+05:30',\n  'Delivery Date Time': '2021-06-24T18:22:00+05:30',\n  'Out for Delivery datetime(s)': [{'$numberLong': '1624513800000'}],\n  'Shipment weight': 32,\n  'Pickup Pincode': '110064',\n  'Pickup City': 'Delhi',\n  'Pickup State': 'DL',\n  'Drop Pincode': '600112',\n  'Drop city': 'Chennai',\n  'Drop state': 'TN',\n  'Number of Delivery attempts needed': 0},\n {'Tracking number': '281222569500',\n  'Payment type': 'Prepaid',\n  'Pickup Date Time': '2021-07-09T14:35:00+05:30',\n  'Delivery Date Time': '2021-07-15T18:23:00+05:30',\n  'Out for Delivery datetime(s)': [],\n  'Shipment weight': 22.5,\n  'Pickup Pincode': '110064',\n  'Pickup City': 'Delhi',\n  'Pickup State': 'DL',\n  'Drop Pincode': '181205',\n  'Drop city': 'Jammu',\n  'Drop state': 'JK',\n  'Number of Delivery attempts needed': 0},\n {'Tracking number': '280307632740',\n  'Payment type': 'Prepaid',\n  'Pickup Date Time': '2021-06-14T19:31:00+05:30',\n  'Delivery Date Time': '2021-06-16T16:30:00+05:30',\n  'Out for Delivery datetime(s)': [{'$numberLong': '1623749460000'}],\n  'Shipment weight': 2,\n  'Pickup Pincode': '400059',\n  'Pickup City': 'Mumbai',\n  'Pickup State': 'MH',\n  'Drop Pincode': '411045',\n  'Drop city': 'Pune',\n  'Drop state': 'MH',\n  'Number of Delivery attempts needed': 0},\n {'Tracking number': '280307633276',\n  'Payment type': 'Prepaid',\n  'Pickup Date Time': '2021-06-14T19:31:00+05:30',\n  'Delivery Date Time': '2021-06-16T16:30:00+05:30',\n  'Out for Delivery datetime(s)': [{'$numberLong': '1623749460000'}],\n  'Shipment weight': 2,\n  'Pickup Pincode': '400059',\n  'Pickup City': 'Mumbai',\n  'Pickup State': 'MH',\n  'Drop Pincode': '411045',\n  'Drop city': 'Pune',\n  'Drop state': 'MH',\n  'Number of Delivery attempts needed': 0},\n {'Tracking number': '280993568461',\n  'Payment type': 'Prepaid',\n  'Pickup Date Time': '2021-07-03T16:19:00+05:30',\n  'Delivery Date Time': '2021-07-06T10:30:00+05:30',\n  'Out for Delivery datetime(s)': [{'$numberLong': '1625542500000'},\n   {'$numberLong': '1625472600000'}],\n  'Shipment weight': 1.5,\n  'Pickup Pincode': '411003',\n  'Pickup City': 'Pune',\n  'Pickup State': 'MH',\n  'Drop Pincode': '400059',\n  'Drop city': 'Mumbai',\n  'Drop state': 'MH',\n  'Number of Delivery attempts needed': 0}]"
     },
     "execution_count": 50,
     "metadata": {},
     "output_type": "execute_result"
    }
   ],
   "source": [
    "# for to see sample data\n",
    "flattened_data"
   ],
   "metadata": {
    "collapsed": false,
    "ExecuteTime": {
     "end_time": "2024-01-10T01:59:51.734011600Z",
     "start_time": "2024-01-10T01:59:51.690488500Z"
    }
   }
  },
  {
   "cell_type": "markdown",
   "source": [
    "### Transforming the data"
   ],
   "metadata": {
    "collapsed": false
   }
  },
  {
   "cell_type": "code",
   "execution_count": 51,
   "outputs": [],
   "source": [
    "# Convert the time format\n",
    "for item in flattened_data:\n",
    "    #Convert the datetime to readable format in IST\n",
    "    item['Pickup Date Time'] = dt.datetime.fromisoformat(item['Pickup Date Time']).astimezone(dt.timezone(dt.timedelta(hours=5, minutes=30))).strftime('%Y-%m-%d %H:%M:%S')\n",
    "    item['Delivery Date Time'] = dt.datetime.fromisoformat(item['Delivery Date Time']).astimezone(dt.timezone(dt.timedelta(hours=5, minutes=30))).strftime('%Y-%m-%d %H:%M:%S')\n",
    "\n",
    "    # Calculate the number of days taken to delivery\n",
    "    days_taken = (dt.datetime.fromisoformat(item['Delivery Date Time']) - dt.datetime.fromisoformat(item['Pickup Date Time'])).days\n",
    "    item['Days Taken for Delivery'] = days_taken\n",
    "\n",
    "    # Calculate the number of Delivery Attempts\n",
    "    item['Number of Delivery attempts needed'] = len([event for event in track['events'] if event['eventType'] in ['OD', 'DL']])\n"
   ],
   "metadata": {
    "collapsed": false,
    "ExecuteTime": {
     "end_time": "2024-01-10T02:00:24.110007600Z",
     "start_time": "2024-01-10T02:00:24.092170900Z"
    }
   }
  },
  {
   "cell_type": "code",
   "execution_count": 53,
   "outputs": [
    {
     "data": {
      "text/plain": "  Tracking number Payment type     Pickup Date Time   Delivery Date Time   \n0    391128701026          COD  2020-03-16 15:44:00  2020-03-20 13:37:00  \\\n1    390901883808      Prepaid  2020-03-06 16:07:00  2020-03-09 19:50:00   \n2    391128749178      Prepaid  2020-03-16 15:44:00  2020-03-19 15:29:00   \n3    390807986805      Prepaid  2020-03-03 16:19:00  2020-03-07 14:24:00   \n4    390948921190          COD  2020-03-09 15:12:00  2020-03-13 14:44:00   \n\n                        Out for Delivery datetime(s)  Shipment weight   \n0                 [{'$numberLong': '1584679560000'}]             14.0  \\\n1  [{'$numberLong': '1583731200000'}, {'$numberLo...             14.0   \n2                 [{'$numberLong': '1584601200000'}]             14.0   \n3                 [{'$numberLong': '1583557020000'}]             14.0   \n4                 [{'$numberLong': '1584072120000'}]             14.0   \n\n  Pickup Pincode Pickup City Pickup State Drop Pincode  Drop city Drop state   \n0         560048   Bangalore           KA       122001    Gurgaon         HR  \\\n1         560048   Bangalore           KA       560034  Bangalore         KA   \n2         560048   Bangalore           KA       380028  Ahmedabad         GJ   \n3         560048   Bangalore           KA       110088  New Delhi         DL   \n4         560048   Bangalore           KA       110009      Delhi         DL   \n\n   Number of Delivery attempts needed  Days Taken for Delivery  \n0                                   3                        3  \n1                                   3                        3  \n2                                   3                        2  \n3                                   3                        3  \n4                                   3                        3  ",
      "text/html": "<div>\n<style scoped>\n    .dataframe tbody tr th:only-of-type {\n        vertical-align: middle;\n    }\n\n    .dataframe tbody tr th {\n        vertical-align: top;\n    }\n\n    .dataframe thead th {\n        text-align: right;\n    }\n</style>\n<table border=\"1\" class=\"dataframe\">\n  <thead>\n    <tr style=\"text-align: right;\">\n      <th></th>\n      <th>Tracking number</th>\n      <th>Payment type</th>\n      <th>Pickup Date Time</th>\n      <th>Delivery Date Time</th>\n      <th>Out for Delivery datetime(s)</th>\n      <th>Shipment weight</th>\n      <th>Pickup Pincode</th>\n      <th>Pickup City</th>\n      <th>Pickup State</th>\n      <th>Drop Pincode</th>\n      <th>Drop city</th>\n      <th>Drop state</th>\n      <th>Number of Delivery attempts needed</th>\n      <th>Days Taken for Delivery</th>\n    </tr>\n  </thead>\n  <tbody>\n    <tr>\n      <th>0</th>\n      <td>391128701026</td>\n      <td>COD</td>\n      <td>2020-03-16 15:44:00</td>\n      <td>2020-03-20 13:37:00</td>\n      <td>[{'$numberLong': '1584679560000'}]</td>\n      <td>14.0</td>\n      <td>560048</td>\n      <td>Bangalore</td>\n      <td>KA</td>\n      <td>122001</td>\n      <td>Gurgaon</td>\n      <td>HR</td>\n      <td>3</td>\n      <td>3</td>\n    </tr>\n    <tr>\n      <th>1</th>\n      <td>390901883808</td>\n      <td>Prepaid</td>\n      <td>2020-03-06 16:07:00</td>\n      <td>2020-03-09 19:50:00</td>\n      <td>[{'$numberLong': '1583731200000'}, {'$numberLo...</td>\n      <td>14.0</td>\n      <td>560048</td>\n      <td>Bangalore</td>\n      <td>KA</td>\n      <td>560034</td>\n      <td>Bangalore</td>\n      <td>KA</td>\n      <td>3</td>\n      <td>3</td>\n    </tr>\n    <tr>\n      <th>2</th>\n      <td>391128749178</td>\n      <td>Prepaid</td>\n      <td>2020-03-16 15:44:00</td>\n      <td>2020-03-19 15:29:00</td>\n      <td>[{'$numberLong': '1584601200000'}]</td>\n      <td>14.0</td>\n      <td>560048</td>\n      <td>Bangalore</td>\n      <td>KA</td>\n      <td>380028</td>\n      <td>Ahmedabad</td>\n      <td>GJ</td>\n      <td>3</td>\n      <td>2</td>\n    </tr>\n    <tr>\n      <th>3</th>\n      <td>390807986805</td>\n      <td>Prepaid</td>\n      <td>2020-03-03 16:19:00</td>\n      <td>2020-03-07 14:24:00</td>\n      <td>[{'$numberLong': '1583557020000'}]</td>\n      <td>14.0</td>\n      <td>560048</td>\n      <td>Bangalore</td>\n      <td>KA</td>\n      <td>110088</td>\n      <td>New Delhi</td>\n      <td>DL</td>\n      <td>3</td>\n      <td>3</td>\n    </tr>\n    <tr>\n      <th>4</th>\n      <td>390948921190</td>\n      <td>COD</td>\n      <td>2020-03-09 15:12:00</td>\n      <td>2020-03-13 14:44:00</td>\n      <td>[{'$numberLong': '1584072120000'}]</td>\n      <td>14.0</td>\n      <td>560048</td>\n      <td>Bangalore</td>\n      <td>KA</td>\n      <td>110009</td>\n      <td>Delhi</td>\n      <td>DL</td>\n      <td>3</td>\n      <td>3</td>\n    </tr>\n  </tbody>\n</table>\n</div>"
     },
     "execution_count": 53,
     "metadata": {},
     "output_type": "execute_result"
    }
   ],
   "source": [
    "#Create DataFrame\n",
    "df = pd.DataFrame(flattened_data)\n",
    "df.head()"
   ],
   "metadata": {
    "collapsed": false,
    "ExecuteTime": {
     "end_time": "2024-01-10T02:00:33.709289500Z",
     "start_time": "2024-01-10T02:00:33.605060300Z"
    }
   }
  },
  {
   "cell_type": "markdown",
   "source": [
    "### Output as CSV file"
   ],
   "metadata": {
    "collapsed": false
   }
  },
  {
   "cell_type": "code",
   "execution_count": 54,
   "outputs": [],
   "source": [
    "output_csv_path = 'output.csv'\n",
    "df.to_csv(output_csv_path, index=False)"
   ],
   "metadata": {
    "collapsed": false,
    "ExecuteTime": {
     "end_time": "2024-01-10T02:02:48.717957600Z",
     "start_time": "2024-01-10T02:02:46.167767800Z"
    }
   }
  },
  {
   "cell_type": "markdown",
   "source": [
    "###     Output Summary Statistics as a CSv"
   ],
   "metadata": {
    "collapsed": false
   }
  },
  {
   "cell_type": "code",
   "execution_count": 60,
   "outputs": [],
   "source": [
    "# extract required column for statistics analysis\n",
    "summary_df = df[['Days Taken for Delivery', 'Number of Delivery attempts needed']]\n",
    "\n",
    "# Calculate the mean, median mode\n",
    "mean_value = summary_df.mean()\n",
    "median_value = summary_df.median()\n",
    "mode_value = summary_df.mode().iloc[0]\n",
    "\n",
    "# create dataframe for Summary statistics\n",
    "Summary = pd.DataFrame({\n",
    "    'Mean':mean_value,\n",
    "    'Median':median_value,\n",
    "    'Mode':mode_value\n",
    "})\n",
    "\n",
    "# Output Summary Statistics in csv file\n",
    "Summary.to_csv('Statistics_Summary.csv')"
   ],
   "metadata": {
    "collapsed": false,
    "ExecuteTime": {
     "end_time": "2024-01-10T02:15:28.935539400Z",
     "start_time": "2024-01-10T02:15:28.901475500Z"
    }
   }
  },
  {
   "cell_type": "markdown",
   "source": [
    "#### Other way to calculate the summary through pandas"
   ],
   "metadata": {
    "collapsed": false
   }
  },
  {
   "cell_type": "code",
   "execution_count": 62,
   "outputs": [],
   "source": [
    "summary_stats = summary_df.describe().transpose()\n",
    "summary_stats.to_csv('Summary_Description.csv')"
   ],
   "metadata": {
    "collapsed": false,
    "ExecuteTime": {
     "end_time": "2024-01-10T02:19:06.633838300Z",
     "start_time": "2024-01-10T02:19:06.553592100Z"
    }
   }
  }
 ],
 "metadata": {
  "kernelspec": {
   "display_name": "Python 3",
   "language": "python",
   "name": "python3"
  },
  "language_info": {
   "codemirror_mode": {
    "name": "ipython",
    "version": 2
   },
   "file_extension": ".py",
   "mimetype": "text/x-python",
   "name": "python",
   "nbconvert_exporter": "python",
   "pygments_lexer": "ipython2",
   "version": "2.7.6"
  }
 },
 "nbformat": 4,
 "nbformat_minor": 0
}
